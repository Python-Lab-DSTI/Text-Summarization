{
 "cells": [
  {
   "cell_type": "code",
   "execution_count": 1,
   "id": "pointed-supply",
   "metadata": {},
   "outputs": [],
   "source": [
    "#import library \n",
    "import os \n",
    "import glob as glob\n",
    "import numpy as np\n",
    "import pandas as pd\n",
    "import matplotlib.pyplot as plt\n",
    "import seaborn as sns"
   ]
  },
  {
   "cell_type": "code",
   "execution_count": 2,
   "id": "mineral-inspector",
   "metadata": {},
   "outputs": [
    {
     "name": "stdout",
     "output_type": "stream",
     "text": [
      "D:\\OneDrive - Data ScienceTech Institute\\5 python Lab\\Python Project\n"
     ]
    }
   ],
   "source": [
    "#get current directory /// read number file \n",
    "print(os.getcwd())\n",
    "#read csv \n",
    "df = pd.read_csv('file1.csv', sep = ',')"
   ]
  },
  {
   "cell_type": "markdown",
   "id": "mental-turtle",
   "metadata": {},
   "source": [
    "# Goal :\n",
    "  + ## Understand our data as best as possible (a small step forward is better than a big step back)\n",
    "  + ## Develop a first modeling \n",
    "  "
   ]
  },
  {
   "cell_type": "code",
   "execution_count": 3,
   "id": "present-adobe",
   "metadata": {},
   "outputs": [
    {
     "name": "stdout",
     "output_type": "stream",
     "text": [
      "<class 'pandas.core.frame.DataFrame'>\n",
      "RangeIndex: 45 entries, 0 to 44\n",
      "Data columns (total 19 columns):\n",
      " #   Column                                                                                           Non-Null Count  Dtype \n",
      "---  ------                                                                                           --------------  ----- \n",
      " 0   Please specify your campus                                                                       45 non-null     object\n",
      " 1   Please specify your programme                                                                    45 non-null     object\n",
      " 2   1 - Did the class meet your expectations?                                                        45 non-null     object\n",
      " 3   Please share your comments                                                                       24 non-null     object\n",
      " 4   2 - Was the professor's quality of expression good?                                              45 non-null     object\n",
      " 5   Please share your comments.1                                                                     23 non-null     object\n",
      " 6   3 - Was the class content clearly expressed?                                                     45 non-null     object\n",
      " 7   Please share your comments.2                                                                     21 non-null     object\n",
      " 8   4 - Did the professor answer your questions clearly?                                             45 non-null     object\n",
      " 9   Please share your comments.3                                                                     17 non-null     object\n",
      " 10  5 - What do you think of the class difficulty?                                                   45 non-null     object\n",
      " 11  Please share your comments.4                                                                     26 non-null     object\n",
      " 12  6 - What did you most appreciate about the professor's class?                                    45 non-null     object\n",
      " 13  7 - What did you least appreciate about the professor's class?                                   44 non-null     object\n",
      " 14  8 - What are the main take-aways (what did you learn)?                                           45 non-null     object\n",
      " 15  9 - Did the professor explain why the class is important for the DSTI programme?                 45 non-null     object\n",
      " 16  Please share your comments.5                                                                     14 non-null     object\n",
      " 17  10 -  Is there anything you would have liked to have seen during the class that wasn’t covered?  44 non-null     object\n",
      " 18  11 -Thank you for your reply, if you have any other comment please state them below              19 non-null     object\n",
      "dtypes: object(19)\n",
      "memory usage: 6.8+ KB\n"
     ]
    }
   ],
   "source": [
    "df.info()"
   ]
  },
  {
   "cell_type": "markdown",
   "id": "sustainable-orientation",
   "metadata": {},
   "source": [
    "## dictionary for feature "
   ]
  },
  {
   "cell_type": "code",
   "execution_count": 4,
   "id": "silver-breath",
   "metadata": {},
   "outputs": [],
   "source": [
    "dict1={\"Please specify your campus\":\"campus\",\n",
    "        \"Please specify your programme\":\"programme\",\n",
    "        \"1 - Did the class meet your expectations?\":\"expectation\",\n",
    "        \"Please share your comments\":\"expectation_comment\",\n",
    "        \"2 - Was the professor's quality of expression good?\":\"quality_expression\",\n",
    "        \"Please share your comments.1\":\"expression_comment\",\n",
    "        \"3 - Was the class content clearly expressed?\":\"class_content_expressed\",\n",
    "        \"Please share your comments.2\":\"content_comment\",\n",
    "        \"4 - Did the professor answer your questions clearly?\":\"answer_question\",\n",
    "        \"Please share your comments.3\":\"aq_comment\",\n",
    "        \"5 - What do you think of the class difficulty?\":\"difficulty\",\n",
    "        \"Please share your comments.4\":\"difficulty_comment\",\n",
    "        \"6 - What did you most appreciate about the professor's class?\":\"most_appreciate_comment\",\n",
    "        \"7 - What did you least appreciate about the professor's class?\":\"least_appreciate_comment\",\n",
    "        \"8 - What are the main take-aways (what did you learn)?\":\"main_learn_comment\",\n",
    "        \"9 - Did the professor explain why the class is important for the DSTI programme?\":\"explain_why\",\n",
    "        \"Please share your comments.5\":\"explain_comment\",\n",
    "        \"10 -  Is there anything you would have liked to have seen during the class that wasn’t covered?\" : \"not_covered_comment\",\n",
    "        \"11 -Thank you for your reply, if you have any other comment please state them below\":\"other_comment\"\n",
    "       }\n"
   ]
  },
  {
   "cell_type": "code",
   "execution_count": 5,
   "id": "written-baptist",
   "metadata": {},
   "outputs": [],
   "source": [
    "#rename the column \n",
    "df = df.rename(columns = dict1)"
   ]
  },
  {
   "cell_type": "code",
   "execution_count": 6,
   "id": "choice-hungarian",
   "metadata": {
    "scrolled": true
   },
   "outputs": [
    {
     "data": {
      "text/html": [
       "<div>\n",
       "<style scoped>\n",
       "    .dataframe tbody tr th:only-of-type {\n",
       "        vertical-align: middle;\n",
       "    }\n",
       "\n",
       "    .dataframe tbody tr th {\n",
       "        vertical-align: top;\n",
       "    }\n",
       "\n",
       "    .dataframe thead th {\n",
       "        text-align: right;\n",
       "    }\n",
       "</style>\n",
       "<table border=\"1\" class=\"dataframe\">\n",
       "  <thead>\n",
       "    <tr style=\"text-align: right;\">\n",
       "      <th></th>\n",
       "      <th>campus</th>\n",
       "      <th>programme</th>\n",
       "      <th>expectation</th>\n",
       "      <th>expectation_comment</th>\n",
       "      <th>quality_expression</th>\n",
       "      <th>expression_comment</th>\n",
       "      <th>class_content_expressed</th>\n",
       "      <th>content_comment</th>\n",
       "      <th>answer_question</th>\n",
       "      <th>aq_comment</th>\n",
       "      <th>difficulty</th>\n",
       "      <th>difficulty_comment</th>\n",
       "      <th>most_appreciate_comment</th>\n",
       "      <th>least_appreciate_comment</th>\n",
       "      <th>main_learn_comment</th>\n",
       "      <th>explain_why</th>\n",
       "      <th>explain_comment</th>\n",
       "      <th>not_covered_comment</th>\n",
       "      <th>other_comment</th>\n",
       "    </tr>\n",
       "  </thead>\n",
       "  <tbody>\n",
       "    <tr>\n",
       "      <th>0</th>\n",
       "      <td>Paris</td>\n",
       "      <td>Applied MSc in Data Science &amp; AI</td>\n",
       "      <td>No, it wasn't clear</td>\n",
       "      <td>NaN</td>\n",
       "      <td>No, not at all</td>\n",
       "      <td>he was not coming prepared, yeah something i c...</td>\n",
       "      <td>No, it wasn't clear</td>\n",
       "      <td>NaN</td>\n",
       "      <td>No, it wasn't clear</td>\n",
       "      <td>NaN</td>\n",
       "      <td>Average</td>\n",
       "      <td>since I had some little understanding of progr...</td>\n",
       "      <td>he is an expert programmer no talking about th...</td>\n",
       "      <td>unprepared...... you can imagine how just bein...</td>\n",
       "      <td>if you are an expert you can tackle any proble...</td>\n",
       "      <td>Yes, absolutely</td>\n",
       "      <td>NaN</td>\n",
       "      <td>like I would really need a support session to ...</td>\n",
       "      <td>NaN</td>\n",
       "    </tr>\n",
       "    <tr>\n",
       "      <th>1</th>\n",
       "      <td>Off-campus</td>\n",
       "      <td>Applied MSc in Data Science &amp; AI</td>\n",
       "      <td>No, it wasn't clear</td>\n",
       "      <td>I am very sorry to say that because professor ...</td>\n",
       "      <td>Yes, partially</td>\n",
       "      <td>Partially because as the course consists in ob...</td>\n",
       "      <td>Yes, absolutely</td>\n",
       "      <td>But we haven't had time to finish course, and ...</td>\n",
       "      <td>Yes, absolutely</td>\n",
       "      <td>He answers all our question.</td>\n",
       "      <td>Hard</td>\n",
       "      <td>Hard only because of a lack of structure of ho...</td>\n",
       "      <td>Its patience. And also exercices performed dur...</td>\n",
       "      <td>The lack of course structure : it was an obser...</td>\n",
       "      <td>I need to think of my implementation structure...</td>\n",
       "      <td>Yes, absolutely</td>\n",
       "      <td>Because C language is behind the Python scene.</td>\n",
       "      <td>What I would have liked is:\\n- a course suppor...</td>\n",
       "      <td>I am very sorry for all those negatives commen...</td>\n",
       "    </tr>\n",
       "    <tr>\n",
       "      <th>2</th>\n",
       "      <td>Paris</td>\n",
       "      <td>Applied MSc in Data Science &amp; AI</td>\n",
       "      <td>No, it wasn't clear</td>\n",
       "      <td>Well. That’s not what I expected. It was not s...</td>\n",
       "      <td>Yes, partially</td>\n",
       "      <td>French accent is quite strong but still unders...</td>\n",
       "      <td>Yes, partially</td>\n",
       "      <td>I’m very convinced that Clement is an expert i...</td>\n",
       "      <td>Yes, absolutely</td>\n",
       "      <td>Clement is very attentive to questions  and al...</td>\n",
       "      <td>Hard</td>\n",
       "      <td>Programming in C is not easy in general, but a...</td>\n",
       "      <td>I appreciated the fact we had time to do exerc...</td>\n",
       "      <td>There must be a social code even if we’re not ...</td>\n",
       "      <td>We learned basic programming in C and even saw...</td>\n",
       "      <td>Yes, absolutely</td>\n",
       "      <td>Clement explained the connection between C and...</td>\n",
       "      <td>I would have liked to see general presentation...</td>\n",
       "      <td>I know that many students were not happy with ...</td>\n",
       "    </tr>\n",
       "    <tr>\n",
       "      <th>3</th>\n",
       "      <td>Paris</td>\n",
       "      <td>Applied MSc in Data Science &amp; AI</td>\n",
       "      <td>No, it wasn't clear</td>\n",
       "      <td>NaN</td>\n",
       "      <td>Yes, partially</td>\n",
       "      <td>NaN</td>\n",
       "      <td>Yes, partially</td>\n",
       "      <td>NaN</td>\n",
       "      <td>Yes, partially</td>\n",
       "      <td>NaN</td>\n",
       "      <td>Very hard</td>\n",
       "      <td>NaN</td>\n",
       "      <td>He is nice</td>\n",
       "      <td>He is not well prepared</td>\n",
       "      <td>I learnt very few things</td>\n",
       "      <td>Yes, partially</td>\n",
       "      <td>NaN</td>\n",
       "      <td>I hope he will prepare slides/notes before cla...</td>\n",
       "      <td>NaN</td>\n",
       "    </tr>\n",
       "    <tr>\n",
       "      <th>4</th>\n",
       "      <td>Sophia</td>\n",
       "      <td>Applied MSc in Data Science &amp; AI</td>\n",
       "      <td>No, it wasn't clear</td>\n",
       "      <td>Content were not in depth. I understand hands-...</td>\n",
       "      <td>No, it wasn't clear</td>\n",
       "      <td>NaN</td>\n",
       "      <td>No, it wasn't clear</td>\n",
       "      <td>NaN</td>\n",
       "      <td>Yes, partially</td>\n",
       "      <td>NaN</td>\n",
       "      <td>Average</td>\n",
       "      <td>NaN</td>\n",
       "      <td>all the programs he taken</td>\n",
       "      <td>he was unable to express clearly what he is tr...</td>\n",
       "      <td>nothing</td>\n",
       "      <td>Yes, partially</td>\n",
       "      <td>NaN</td>\n",
       "      <td>Object oriented concepts were not touched whil...</td>\n",
       "      <td>Its better when professors are in class room, ...</td>\n",
       "    </tr>\n",
       "  </tbody>\n",
       "</table>\n",
       "</div>"
      ],
      "text/plain": [
       "       campus                         programme          expectation  \\\n",
       "0       Paris  Applied MSc in Data Science & AI  No, it wasn't clear   \n",
       "1  Off-campus  Applied MSc in Data Science & AI  No, it wasn't clear   \n",
       "2       Paris  Applied MSc in Data Science & AI  No, it wasn't clear   \n",
       "3       Paris  Applied MSc in Data Science & AI  No, it wasn't clear   \n",
       "4      Sophia  Applied MSc in Data Science & AI  No, it wasn't clear   \n",
       "\n",
       "                                 expectation_comment   quality_expression  \\\n",
       "0                                                NaN       No, not at all   \n",
       "1  I am very sorry to say that because professor ...       Yes, partially   \n",
       "2  Well. That’s not what I expected. It was not s...       Yes, partially   \n",
       "3                                                NaN       Yes, partially   \n",
       "4  Content were not in depth. I understand hands-...  No, it wasn't clear   \n",
       "\n",
       "                                  expression_comment class_content_expressed  \\\n",
       "0  he was not coming prepared, yeah something i c...     No, it wasn't clear   \n",
       "1  Partially because as the course consists in ob...         Yes, absolutely   \n",
       "2  French accent is quite strong but still unders...          Yes, partially   \n",
       "3                                                NaN          Yes, partially   \n",
       "4                                                NaN     No, it wasn't clear   \n",
       "\n",
       "                                     content_comment      answer_question  \\\n",
       "0                                                NaN  No, it wasn't clear   \n",
       "1  But we haven't had time to finish course, and ...      Yes, absolutely   \n",
       "2  I’m very convinced that Clement is an expert i...      Yes, absolutely   \n",
       "3                                                NaN       Yes, partially   \n",
       "4                                                NaN       Yes, partially   \n",
       "\n",
       "                                          aq_comment difficulty  \\\n",
       "0                                                NaN    Average   \n",
       "1                       He answers all our question.       Hard   \n",
       "2  Clement is very attentive to questions  and al...       Hard   \n",
       "3                                                NaN  Very hard   \n",
       "4                                                NaN    Average   \n",
       "\n",
       "                                  difficulty_comment  \\\n",
       "0  since I had some little understanding of progr...   \n",
       "1  Hard only because of a lack of structure of ho...   \n",
       "2  Programming in C is not easy in general, but a...   \n",
       "3                                                NaN   \n",
       "4                                                NaN   \n",
       "\n",
       "                             most_appreciate_comment  \\\n",
       "0  he is an expert programmer no talking about th...   \n",
       "1  Its patience. And also exercices performed dur...   \n",
       "2  I appreciated the fact we had time to do exerc...   \n",
       "3                                         He is nice   \n",
       "4                          all the programs he taken   \n",
       "\n",
       "                            least_appreciate_comment  \\\n",
       "0  unprepared...... you can imagine how just bein...   \n",
       "1  The lack of course structure : it was an obser...   \n",
       "2  There must be a social code even if we’re not ...   \n",
       "3                            He is not well prepared   \n",
       "4  he was unable to express clearly what he is tr...   \n",
       "\n",
       "                                  main_learn_comment      explain_why  \\\n",
       "0  if you are an expert you can tackle any proble...  Yes, absolutely   \n",
       "1  I need to think of my implementation structure...  Yes, absolutely   \n",
       "2  We learned basic programming in C and even saw...  Yes, absolutely   \n",
       "3                           I learnt very few things   Yes, partially   \n",
       "4                                            nothing   Yes, partially   \n",
       "\n",
       "                                     explain_comment  \\\n",
       "0                                                NaN   \n",
       "1     Because C language is behind the Python scene.   \n",
       "2  Clement explained the connection between C and...   \n",
       "3                                                NaN   \n",
       "4                                                NaN   \n",
       "\n",
       "                                 not_covered_comment  \\\n",
       "0  like I would really need a support session to ...   \n",
       "1  What I would have liked is:\\n- a course suppor...   \n",
       "2  I would have liked to see general presentation...   \n",
       "3  I hope he will prepare slides/notes before cla...   \n",
       "4  Object oriented concepts were not touched whil...   \n",
       "\n",
       "                                       other_comment  \n",
       "0                                                NaN  \n",
       "1  I am very sorry for all those negatives commen...  \n",
       "2  I know that many students were not happy with ...  \n",
       "3                                                NaN  \n",
       "4  Its better when professors are in class room, ...  "
      ]
     },
     "execution_count": 6,
     "metadata": {},
     "output_type": "execute_result"
    }
   ],
   "source": [
    "#df.info()\n",
    "df.head()"
   ]
  },
  {
   "cell_type": "markdown",
   "id": "fossil-desperate",
   "metadata": {},
   "source": [
    "\n",
    "# Annotation \n",
    "- campus :                 Paris, Off-campus, Sophia\n",
    "- programme:               DA DE DS \n",
    "- expectation:             No, not at all ; No, it wasn't clear ; Yes, partially ; Yes, absolutely\n",
    "- quality_expression:      No, not at all ; No, it wasn't clear ; Yes, partially ; Yes, absolutely\n",
    "- content:                 No, not at all ; No, it wasn't clear ; Yes, partially ; Yes, absolutely\n",
    "- answer_question:         No, not at all ; No, it wasn't clear ; Yes, partially ; Yes, absolutely\n",
    "- difficulty:              Easy ; Average ; Hard ; Very hard \n",
    "- explain why:             No, not at all ; No, it wasn't clear ; Yes, partially ; Yes, absolutely\n",
    "\n",
    "# Comment \n",
    "\n",
    "- expectation_comment         \n",
    "- expression_comment   \n",
    "- content_comment       \n",
    "- aq_comment            \n",
    "- difficulty_comment    \n",
    "- most_appreciate_comment       \n",
    "- least_appreciate_comment     \n",
    "- explain_comment     \n",
    "- explain_why_comment           \n",
    "- not_covered_comment          \n",
    "- other_comment       \n",
    "\n",
    "\n",
    "\n",
    "\n"
   ]
  },
  {
   "cell_type": "markdown",
   "id": "incomplete-johnston",
   "metadata": {},
   "source": [
    "## pie plot\n",
    "- extract comment for each part and summerize it"
   ]
  },
  {
   "cell_type": "code",
   "execution_count": 113,
   "id": "hybrid-humidity",
   "metadata": {},
   "outputs": [
    {
     "data": {
      "text/plain": [
       "<AxesSubplot:>"
      ]
     },
     "execution_count": 113,
     "metadata": {},
     "output_type": "execute_result"
    },
    {
     "data": {
      "image/png": "[encoded data removed]",
      "text/plain": [
       "<Figure size 1440x720 with 1 Axes>"
      ]
     },
     "metadata": {
      "needs_background": "light"
     },
     "output_type": "display_data"
    }
   ],
   "source": [
    "plt.figure(figsize=(20,10))\n",
    "sns.heatmap(df.isna(), cbar=False)"
   ]
  },
  {
   "cell_type": "code",
   "execution_count": 12,
   "id": "governing-election",
   "metadata": {
    "scrolled": true
   },
   "outputs": [
    {
     "data": {
      "text/plain": [
       "campus                      0.000000\n",
       "programme                   0.000000\n",
       "expectation                 0.000000\n",
       "quality_expression          0.000000\n",
       "class_content_expressed     0.000000\n",
       "answer_question             0.000000\n",
       "difficulty                  0.000000\n",
       "most_appreciate_comment     0.000000\n",
       "main_learn_comment          0.000000\n",
       "explain_why                 0.000000\n",
       "not_covered_comment         0.022222\n",
       "least_appreciate_comment    0.022222\n",
       "difficulty_comment          0.422222\n",
       "expectation_comment         0.466667\n",
       "expression_comment          0.488889\n",
       "content_comment             0.533333\n",
       "other_comment               0.577778\n",
       "aq_comment                  0.622222\n",
       "explain_comment             0.688889\n",
       "dtype: float64"
      ]
     },
     "execution_count": 12,
     "metadata": {},
     "output_type": "execute_result"
    }
   ],
   "source": [
    "#sort missing value \n",
    "\n",
    "(df.isna().sum()/df.shape[0]).sort_values(ascending=True)"
   ]
  },
  {
   "cell_type": "markdown",
   "id": "operating-mumbai",
   "metadata": {},
   "source": [
    " # data extraction "
   ]
  },
  {
   "cell_type": "code",
   "execution_count": 18,
   "id": "objective-beach",
   "metadata": {},
   "outputs": [
    {
     "data": {
      "text/plain": [
       "{0: 'campus',\n",
       " 1: 'programme',\n",
       " 2: 'expectation',\n",
       " 3: 'expectation_comment',\n",
       " 4: 'quality_expression',\n",
       " 5: 'expression_comment',\n",
       " 6: 'class_content_expressed',\n",
       " 7: 'content_comment',\n",
       " 8: 'answer_question',\n",
       " 9: 'aq_comment',\n",
       " 10: 'difficulty',\n",
       " 11: 'difficulty_comment',\n",
       " 12: 'most_appreciate_comment',\n",
       " 13: 'least_appreciate_comment',\n",
       " 14: 'main_learn_comment',\n",
       " 15: 'explain_why',\n",
       " 16: 'explain_comment',\n",
       " 17: 'not_covered_comment',\n",
       " 18: 'other_comment'}"
      ]
     },
     "execution_count": 18,
     "metadata": {},
     "output_type": "execute_result"
    }
   ],
   "source": [
    "#column index\n",
    "{df.columns.get_loc(c): c for idx, c in enumerate(df.columns)}"
   ]
  },
  {
   "cell_type": "code",
   "execution_count": 89,
   "id": "posted-helmet",
   "metadata": {},
   "outputs": [
    {
     "data": {
      "text/html": [
       "<div>\n",
       "<style scoped>\n",
       "    .dataframe tbody tr th:only-of-type {\n",
       "        vertical-align: middle;\n",
       "    }\n",
       "\n",
       "    .dataframe tbody tr th {\n",
       "        vertical-align: top;\n",
       "    }\n",
       "\n",
       "    .dataframe thead th {\n",
       "        text-align: right;\n",
       "    }\n",
       "</style>\n",
       "<table border=\"1\" class=\"dataframe\">\n",
       "  <thead>\n",
       "    <tr style=\"text-align: right;\">\n",
       "      <th></th>\n",
       "      <th>campus</th>\n",
       "      <th>programme</th>\n",
       "      <th>expectation</th>\n",
       "      <th>quality_expression</th>\n",
       "      <th>class_content_expressed</th>\n",
       "      <th>answer_question</th>\n",
       "      <th>difficulty</th>\n",
       "      <th>explain_why</th>\n",
       "    </tr>\n",
       "  </thead>\n",
       "  <tbody>\n",
       "    <tr>\n",
       "      <th>0</th>\n",
       "      <td>Paris</td>\n",
       "      <td>DS</td>\n",
       "      <td>No, it wasn't clear</td>\n",
       "      <td>No, not at all</td>\n",
       "      <td>No, it wasn't clear</td>\n",
       "      <td>No, it wasn't clear</td>\n",
       "      <td>Average</td>\n",
       "      <td>Yes, absolutely</td>\n",
       "    </tr>\n",
       "    <tr>\n",
       "      <th>1</th>\n",
       "      <td>Off-campus</td>\n",
       "      <td>DS</td>\n",
       "      <td>No, it wasn't clear</td>\n",
       "      <td>Yes, partially</td>\n",
       "      <td>Yes, absolutely</td>\n",
       "      <td>Yes, absolutely</td>\n",
       "      <td>Hard</td>\n",
       "      <td>Yes, absolutely</td>\n",
       "    </tr>\n",
       "    <tr>\n",
       "      <th>2</th>\n",
       "      <td>Paris</td>\n",
       "      <td>DS</td>\n",
       "      <td>No, it wasn't clear</td>\n",
       "      <td>Yes, partially</td>\n",
       "      <td>Yes, partially</td>\n",
       "      <td>Yes, absolutely</td>\n",
       "      <td>Hard</td>\n",
       "      <td>Yes, absolutely</td>\n",
       "    </tr>\n",
       "    <tr>\n",
       "      <th>3</th>\n",
       "      <td>Paris</td>\n",
       "      <td>DS</td>\n",
       "      <td>No, it wasn't clear</td>\n",
       "      <td>Yes, partially</td>\n",
       "      <td>Yes, partially</td>\n",
       "      <td>Yes, partially</td>\n",
       "      <td>Very hard</td>\n",
       "      <td>Yes, partially</td>\n",
       "    </tr>\n",
       "    <tr>\n",
       "      <th>4</th>\n",
       "      <td>Sophia</td>\n",
       "      <td>DS</td>\n",
       "      <td>No, it wasn't clear</td>\n",
       "      <td>No, it wasn't clear</td>\n",
       "      <td>No, it wasn't clear</td>\n",
       "      <td>Yes, partially</td>\n",
       "      <td>Average</td>\n",
       "      <td>Yes, partially</td>\n",
       "    </tr>\n",
       "  </tbody>\n",
       "</table>\n",
       "</div>"
      ],
      "text/plain": [
       "       campus programme          expectation   quality_expression  \\\n",
       "0       Paris        DS  No, it wasn't clear       No, not at all   \n",
       "1  Off-campus        DS  No, it wasn't clear       Yes, partially   \n",
       "2       Paris        DS  No, it wasn't clear       Yes, partially   \n",
       "3       Paris        DS  No, it wasn't clear       Yes, partially   \n",
       "4      Sophia        DS  No, it wasn't clear  No, it wasn't clear   \n",
       "\n",
       "  class_content_expressed      answer_question difficulty      explain_why  \n",
       "0     No, it wasn't clear  No, it wasn't clear    Average  Yes, absolutely  \n",
       "1         Yes, absolutely      Yes, absolutely       Hard  Yes, absolutely  \n",
       "2          Yes, partially      Yes, absolutely       Hard  Yes, absolutely  \n",
       "3          Yes, partially       Yes, partially  Very hard   Yes, partially  \n",
       "4     No, it wasn't clear       Yes, partially    Average   Yes, partially  "
      ]
     },
     "execution_count": 89,
     "metadata": {},
     "output_type": "execute_result"
    }
   ],
   "source": [
    "df_rating = df.loc[:, ['campus', 'programme', 'expectation','quality_expression','class_content_expressed','answer_question','difficulty','explain_why']]\n",
    "df_rating.head()"
   ]
  },
  {
   "cell_type": "code",
   "execution_count": 90,
   "id": "killing-point",
   "metadata": {},
   "outputs": [],
   "source": [
    "#replace value : missing DA student \n",
    "df[\"programme\"]=df[\"programme\"].replace({\"Applied MSc in Data Science & AI\":\"DS\"})\n",
    "df[\"programme\"]=df[\"programme\"].replace({\"Applied MSc in Data Engineering for AI\":\"DE\"})\n"
   ]
  },
  {
   "cell_type": "code",
   "execution_count": 91,
   "id": "matched-diversity",
   "metadata": {},
   "outputs": [
    {
     "name": "stdout",
     "output_type": "stream",
     "text": [
      "[\"No, it wasn't clear\", 'No, not at all', 'Yes, absolutely', 'Yes, partially'] [2, 1, 4, 3]\n"
     ]
    }
   ],
   "source": [
    "listb=[2,1,4,3]\n",
    "lista = []\n",
    "for i in df['expectation'].unique():\n",
    "    lista.append(i)\n",
    "\n",
    "print(lista, listb)"
   ]
  },
  {
   "cell_type": "code",
   "execution_count": 92,
   "id": "lightweight-melbourne",
   "metadata": {},
   "outputs": [],
   "source": [
    "df_rating['expectation'] = df_rating['expectation'].replace(lista,listb)\n",
    "df_rating['quality_expression'] = df_rating['quality_expression'].replace(lista,listb)\n",
    "df_rating['quality_expression'] = df_rating['quality_expression'].replace(lista,listb)\n",
    "df_rating['class_content_expressed'] = df_rating['class_content_expressed'].replace(lista,listb)\n",
    "df_rating['answer_question'] = df_rating['answer_question'].replace(lista,listb)\n",
    "df_rating['explain_why'] = df_rating['explain_why'].replace(lista,listb)\n"
   ]
  },
  {
   "cell_type": "code",
   "execution_count": 93,
   "id": "strange-webcam",
   "metadata": {},
   "outputs": [
    {
     "name": "stdout",
     "output_type": "stream",
     "text": [
      "[2, 3, 4, 1] ['Average', 'Hard', 'Very hard', 'Easy']\n"
     ]
    }
   ],
   "source": [
    "listd = [2,3,4,1]\n",
    "listc =[]\n",
    "for i in df['difficulty'].unique():\n",
    "    listc.append(i)\n",
    "print(listd,listc)\n"
   ]
  },
  {
   "cell_type": "code",
   "execution_count": 94,
   "id": "found-optimization",
   "metadata": {},
   "outputs": [],
   "source": [
    "df_rating['difficulty'] = df_rating['difficulty'].replace(listc,listd)"
   ]
  },
  {
   "cell_type": "code",
   "execution_count": 126,
   "id": "coordinated-firewall",
   "metadata": {},
   "outputs": [
    {
     "data": {
      "text/html": [
       "<div>\n",
       "<style scoped>\n",
       "    .dataframe tbody tr th:only-of-type {\n",
       "        vertical-align: middle;\n",
       "    }\n",
       "\n",
       "    .dataframe tbody tr th {\n",
       "        vertical-align: top;\n",
       "    }\n",
       "\n",
       "    .dataframe thead th {\n",
       "        text-align: right;\n",
       "    }\n",
       "</style>\n",
       "<table border=\"1\" class=\"dataframe\">\n",
       "  <thead>\n",
       "    <tr style=\"text-align: right;\">\n",
       "      <th></th>\n",
       "      <th>campus</th>\n",
       "      <th>programme</th>\n",
       "      <th>expectation</th>\n",
       "      <th>quality_expression</th>\n",
       "      <th>class_content_expressed</th>\n",
       "      <th>answer_question</th>\n",
       "      <th>difficulty</th>\n",
       "      <th>explain_why</th>\n",
       "    </tr>\n",
       "  </thead>\n",
       "  <tbody>\n",
       "    <tr>\n",
       "      <th>0</th>\n",
       "      <td>Paris</td>\n",
       "      <td>DS</td>\n",
       "      <td>2</td>\n",
       "      <td>1</td>\n",
       "      <td>2</td>\n",
       "      <td>2</td>\n",
       "      <td>2</td>\n",
       "      <td>4</td>\n",
       "    </tr>\n",
       "    <tr>\n",
       "      <th>1</th>\n",
       "      <td>Off-campus</td>\n",
       "      <td>DS</td>\n",
       "      <td>2</td>\n",
       "      <td>3</td>\n",
       "      <td>4</td>\n",
       "      <td>4</td>\n",
       "      <td>3</td>\n",
       "      <td>4</td>\n",
       "    </tr>\n",
       "    <tr>\n",
       "      <th>2</th>\n",
       "      <td>Paris</td>\n",
       "      <td>DS</td>\n",
       "      <td>2</td>\n",
       "      <td>3</td>\n",
       "      <td>3</td>\n",
       "      <td>4</td>\n",
       "      <td>3</td>\n",
       "      <td>4</td>\n",
       "    </tr>\n",
       "    <tr>\n",
       "      <th>3</th>\n",
       "      <td>Paris</td>\n",
       "      <td>DS</td>\n",
       "      <td>2</td>\n",
       "      <td>3</td>\n",
       "      <td>3</td>\n",
       "      <td>3</td>\n",
       "      <td>4</td>\n",
       "      <td>3</td>\n",
       "    </tr>\n",
       "    <tr>\n",
       "      <th>4</th>\n",
       "      <td>Sophia</td>\n",
       "      <td>DS</td>\n",
       "      <td>2</td>\n",
       "      <td>2</td>\n",
       "      <td>2</td>\n",
       "      <td>3</td>\n",
       "      <td>2</td>\n",
       "      <td>3</td>\n",
       "    </tr>\n",
       "  </tbody>\n",
       "</table>\n",
       "</div>"
      ],
      "text/plain": [
       "       campus programme  expectation  quality_expression  \\\n",
       "0       Paris        DS            2                   1   \n",
       "1  Off-campus        DS            2                   3   \n",
       "2       Paris        DS            2                   3   \n",
       "3       Paris        DS            2                   3   \n",
       "4      Sophia        DS            2                   2   \n",
       "\n",
       "   class_content_expressed  answer_question  difficulty  explain_why  \n",
       "0                        2                2           2            4  \n",
       "1                        4                4           3            4  \n",
       "2                        3                4           3            4  \n",
       "3                        3                3           4            3  \n",
       "4                        2                3           2            3  "
      ]
     },
     "execution_count": 126,
     "metadata": {},
     "output_type": "execute_result"
    }
   ],
   "source": [
    "df_rating.head()"
   ]
  },
  {
   "cell_type": "code",
   "execution_count": null,
   "id": "arctic-young",
   "metadata": {},
   "outputs": [],
   "source": []
  },
  {
   "cell_type": "code",
   "execution_count": 115,
   "id": "olive-denver",
   "metadata": {},
   "outputs": [
    {
     "data": {
      "text/plain": [
       "DS    41\n",
       "DE     4\n",
       "Name: programme, dtype: int64"
      ]
     },
     "execution_count": 115,
     "metadata": {},
     "output_type": "execute_result"
    }
   ],
   "source": [
    "# Participant counts \n",
    "df[\"programme\"].value_counts()"
   ]
  },
  {
   "cell_type": "code",
   "execution_count": 130,
   "id": "thrown-utilization",
   "metadata": {},
   "outputs": [
    {
     "data": {
      "text/plain": [
       "expectation                2.533333\n",
       "quality_expression         2.666667\n",
       "class_content_expressed    2.511111\n",
       "answer_question            3.066667\n",
       "difficulty                 2.533333\n",
       "explain_why                3.088889\n",
       "dtype: float64"
      ]
     },
     "execution_count": 130,
     "metadata": {},
     "output_type": "execute_result"
    }
   ],
   "source": [
    "#general overview\n",
    "df_rating.mean()"
   ]
  },
  {
   "cell_type": "code",
   "execution_count": 124,
   "id": "amino-ministry",
   "metadata": {},
   "outputs": [
    {
     "name": "stdout",
     "output_type": "stream",
     "text": [
      "expectation                3.0\n",
      "quality_expression         3.0\n",
      "class_content_expressed    3.0\n",
      "answer_question            3.0\n",
      "difficulty                 2.5\n",
      "explain_why                3.0\n",
      "dtype: float64\n"
     ]
    }
   ],
   "source": [
    "#mean rating DE cant not say anything because there are only 4 DE participant for this class  \n",
    "print(df_rating.loc[df_rating.programme == (\"DE\")].mean())"
   ]
  },
  {
   "cell_type": "code",
   "execution_count": 123,
   "id": "coastal-bible",
   "metadata": {},
   "outputs": [
    {
     "name": "stdout",
     "output_type": "stream",
     "text": [
      "expectation                2.487805\n",
      "quality_expression         2.634146\n",
      "class_content_expressed    2.463415\n",
      "answer_question            3.073171\n",
      "difficulty                 2.536585\n",
      "explain_why                3.097561\n",
      "dtype: float64\n"
     ]
    }
   ],
   "source": [
    "print(df_rating.loc[df_rating.programme == (\"DS\")].mean())"
   ]
  },
  {
   "cell_type": "markdown",
   "id": "opening-painting",
   "metadata": {},
   "source": [
    "# Pie plot , polar plot \n",
    "need to write a function for all "
   ]
  },
  {
   "cell_type": "code",
   "execution_count": 112,
   "id": "progressive-medication",
   "metadata": {},
   "outputs": [
    {
     "data": {
      "text/plain": [
       "<AxesSubplot:ylabel='difficulty'>"
      ]
     },
     "execution_count": 112,
     "metadata": {},
     "output_type": "execute_result"
    },
    {
     "data": {
      "image/png": "[encoded data removed]",
      "text/plain": [
       "<Figure size 432x288 with 1 Axes>"
      ]
     },
     "metadata": {},
     "output_type": "display_data"
    }
   ],
   "source": [
    "df[\"difficulty\"].value_counts().plot.pie()"
   ]
  },
  {
   "cell_type": "code",
   "execution_count": null,
   "id": "respected-evans",
   "metadata": {},
   "outputs": [],
   "source": []
  },
  {
   "cell_type": "code",
   "execution_count": null,
   "id": "difficult-coordination",
   "metadata": {},
   "outputs": [],
   "source": []
  }
 ],
 "metadata": {
  "kernelspec": {
   "display_name": "Python 3",
   "language": "python",
   "name": "python3"
  },
  "language_info": {
   "codemirror_mode": {
    "name": "ipython",
    "version": 3
   },
   "file_extension": ".py",
   "mimetype": "text/x-python",
   "name": "python",
   "nbconvert_exporter": "python",
   "pygments_lexer": "ipython3",
   "version": "3.8.5"
  }
 },
 "nbformat": 4,
 "nbformat_minor": 5
}
