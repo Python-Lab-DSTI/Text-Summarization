{
 "cells": [
  {
   "cell_type": "markdown",
   "metadata": {},
   "source": [
    "***library requirement install if needed***\n",
    "pip install beautifulsoup4\n",
    "pip install lxml\n",
    "pip install html5lib\n",
    "pip install requests"
   ]
  },
  {
   "cell_type": "markdown",
   "metadata": {},
   "source": [
    "**check if the coursera has a API ???? if not **\n",
    "**structure of URL \n",
    "Page 1 : https://www.coursera.org/learn/inferential-statistical-analysis-python/reviews\n",
    "Page 2 : https://www.coursera.org/learn/inferential-statistical-analysis-python/reviews?page=2\n",
    "Page 10 : https://www.coursera.org/learn/inferential-statistical-analysis-python/reviews?page=10\n",
    "Question : When to stop ? if we dont know the last page n = ??\n",
    "store in in CSV for cleaning or then uploaded to SQL then python request for cleaning ???? \n",
    "if it's a dynamic plaform ???\n",
    "request with time if not will dammage the website \n",
    "#extract only rating star in separate column ? \n",
    "#we need to scapping the feed back as much as possible in different subject ( statistic/Python/SQL/...)\n"
   ]
  },
  {
   "cell_type": "markdown",
   "metadata": {},
   "source": [
    "# html code  example # \n",
    "\n",
    "<div class=\"_ng613ig review-text\">\n",
    "    <div class=\"_1qfi0x77\">\n",
    "        <div class=\"_1mzojlvw\" role=\"img\">\n",
    "            <span class=\"_13xsef79 d-inline-block\">\n",
    "                <svg\n",
    "                    aria-hidden=\"true\"\n",
    "                    class=\"_ufjrdd\"\n",
    "                    viewBox=\"0 0 46 44\"\n",
    "                    role=\"img\"\n",
    "                    aria-labelledby=\"FilledStar8c1c071c-d8a4-47a9-88a5-fa895ea1ce40 FilledStar8c1c071c-d8a4-47a9-88a5-fa895ea1ce40Desc\"\n",
    "                    xmlns=\"http://www.w3.org/2000/svg\"\n",
    "                    style=\"fill: rgb(247, 187, 86); height: 14px; width: 14px; margin-right: 2px; vertical-align: text-bottom;\"\n",
    "                >\n",
    "                    <title id=\"FilledStar8c1c071c-d8a4-47a9-88a5-fa895ea1ce40\">Filled Star</title>\n",
    "                    <path stroke=\"#7C6919\" stroke-width=\"1\" d=\"M23 36.5L8.893 43.916l2.694-15.708L.175 17.084l15.772-2.292L23 .5l7.053 14.292 15.772 2.292-11.412 11.124 2.694 15.708z\" fill-rule=\"evenodd\" role=\"presentation\"></path>\n",
    "                </svg>\n",
    "            </span>\n",
    "            <span class=\"_13xsef79 d-inline-block\">\n",
    "                <svg\n",
    "                    aria-hidden=\"true\"\n",
    "                    class=\"_ufjrdd\"\n",
    "                    viewBox=\"0 0 46 44\"\n",
    "                    role=\"img\"\n",
    "                    aria-labelledby=\"FilledStar2eba2c09-948a-4d6f-864a-d9ae342f2af0 FilledStar2eba2c09-948a-4d6f-864a-d9ae342f2af0Desc\"\n",
    "                    xmlns=\"http://www.w3.org/2000/svg\"\n",
    "                    style=\"fill: rgb(247, 187, 86); height: 14px; width: 14px; margin-right: 2px; vertical-align: text-bottom;\"\n",
    "                >\n",
    "                    <title id=\"FilledStar2eba2c09-948a-4d6f-864a-d9ae342f2af0\">Filled Star</title>\n",
    "                    <path stroke=\"#7C6919\" stroke-width=\"1\" d=\"M23 36.5L8.893 43.916l2.694-15.708L.175 17.084l15.772-2.292L23 .5l7.053 14.292 15.772 2.292-11.412 11.124 2.694 15.708z\" fill-rule=\"evenodd\" role=\"presentation\"></path>\n",
    "                </svg>\n",
    "            </span>\n",
    "            <span class=\"_13xsef79 d-inline-block\">\n",
    "                <svg\n",
    "                    aria-hidden=\"true\"\n",
    "                    class=\"_ufjrdd\"\n",
    "                    viewBox=\"0 0 46 44\"\n",
    "                    role=\"img\"\n",
    "                    aria-labelledby=\"FilledStarf06e9033-fe6d-4f1e-b575-78b2f8b3cbc8 FilledStarf06e9033-fe6d-4f1e-b575-78b2f8b3cbc8Desc\"\n",
    "                    xmlns=\"http://www.w3.org/2000/svg\"\n",
    "                    style=\"fill: rgb(247, 187, 86); height: 14px; width: 14px; margin-right: 2px; vertical-align: text-bottom;\"\n",
    "                >\n",
    "                    <title id=\"FilledStarf06e9033-fe6d-4f1e-b575-78b2f8b3cbc8\">Filled Star</title>\n",
    "                    <path stroke=\"#7C6919\" stroke-width=\"1\" d=\"M23 36.5L8.893 43.916l2.694-15.708L.175 17.084l15.772-2.292L23 .5l7.053 14.292 15.772 2.292-11.412 11.124 2.694 15.708z\" fill-rule=\"evenodd\" role=\"presentation\"></path>\n",
    "                </svg>\n",
    "            </span>\n",
    "            <span class=\"_13xsef79 d-inline-block\">\n",
    "                <svg\n",
    "                    aria-hidden=\"true\"\n",
    "                    class=\"_ufjrdd\"\n",
    "                    viewBox=\"0 0 46 44\"\n",
    "                    role=\"img\"\n",
    "                    aria-labelledby=\"FilledStar123d98e4-11d3-4638-94df-6865e8076f2c FilledStar123d98e4-11d3-4638-94df-6865e8076f2cDesc\"\n",
    "                    xmlns=\"http://www.w3.org/2000/svg\"\n",
    "                    style=\"fill: rgba(247, 187, 86, 0.4); height: 14px; width: 14px; margin-right: 2px; vertical-align: text-bottom;\"\n",
    "                >\n",
    "                    <title id=\"FilledStar123d98e4-11d3-4638-94df-6865e8076f2c\">Filled Star</title>\n",
    "                    <path stroke=\"#7C6919\" stroke-width=\"1\" d=\"M23 36.5L8.893 43.916l2.694-15.708L.175 17.084l15.772-2.292L23 .5l7.053 14.292 15.772 2.292-11.412 11.124 2.694 15.708z\" fill-rule=\"evenodd\" role=\"presentation\"></path>\n",
    "                </svg>\n",
    "            </span>\n",
    "            <span class=\"_13xsef79 d-inline-block\">\n",
    "                <svg\n",
    "                    aria-hidden=\"true\"\n",
    "                    class=\"_ufjrdd\"\n",
    "                    viewBox=\"0 0 46 44\"\n",
    "                    role=\"img\"\n",
    "                    aria-labelledby=\"FilledStare4a1ebef-ed29-41cf-971b-c4b5a87b4cda FilledStare4a1ebef-ed29-41cf-971b-c4b5a87b4cdaDesc\"\n",
    "                    xmlns=\"http://www.w3.org/2000/svg\"\n",
    "                    style=\"fill: rgba(247, 187, 86, 0.4); height: 14px; width: 14px; margin-right: 2px; vertical-align: text-bottom;\"\n",
    "                >\n",
    "                    <title id=\"FilledStare4a1ebef-ed29-41cf-971b-c4b5a87b4cda\">Filled Star</title>\n",
    "                    <path stroke=\"#7C6919\" stroke-width=\"1\" d=\"M23 36.5L8.893 43.916l2.694-15.708L.175 17.084l15.772-2.292L23 .5l7.053 14.292 15.772 2.292-11.412 11.124 2.694 15.708z\" fill-rule=\"evenodd\" role=\"presentation\"></path>\n",
    "                </svg>\n",
    "            </span>\n",
    "        </div>\n",
    "        <p class=\"reviewerName p-x-1s m-b-0 text-secondary font-xs\"><span>By ILYA N</span></p>\n",
    "        •\n",
    "        <div class=\"dateOfReview p-x-1s m-b-0 text-secondary font-xs\">Aug 24, 2019</div>\n",
    "    </div>\n",
    "    <div class=\"reviewText\">\n",
    "        <div id=\"\" class=\"rc-CML font-lg styled show-soft-breaks\" dir=\"auto\">\n",
    "            <div>\n",
    "                <p>\n",
    "                    In this course, they cover making confidence intervals and calculating p-values given a specific test scenario (compare sample proportion to population proportion, sample mean to population mean, two sample means to each\n",
    "                    other, etc). While they go though each statistical procedure clearly, I feel like a lot of underlying context is missing. What is the different between a z- and t-distribution? Why do we use those distributions? How do\n",
    "                    the different tests relate to each other? Etc. It feels like this course needed an extra 50-60 minutes of lecture time to tie all these concepts together. A textbook to follow along would have been great too.\n",
    "                </p>\n",
    "            </div>\n",
    "        </div>\n",
    "    </div>\n",
    "</div>\n"
   ]
  },
  {
   "cell_type": "code",
   "execution_count": null,
   "metadata": {},
   "outputs": [],
   "source": [
    "#importation of beautifulSoup \n",
    "from bs4 import BeautifulSoup\n",
    "import requests \n"
   ]
  },
  {
   "cell_type": "code",
   "execution_count": null,
   "metadata": {},
   "outputs": [],
   "source": [
    "# URL   need to make a loop with page ???\n",
    "#for n in range(100)\n",
    "# URL = f'https://www.coursera.org/learn/inferential-statistical-analysis-python/reviews?page=n\n",
    "URL = 'https://www.coursera.org/learn/inferential-statistical-analysis-python/reviews'  \n",
    "page = requests.get(URL)                                                               # requests URL\n",
    "soup = BeautifulSoup(page.content, 'html.parser')                                      # Html parsing \n",
    "\n",
    "print(soup.prettify())                                                      # print the resquest page with function Prettify\n"
   ]
  },
  {
   "cell_type": "code",
   "execution_count": null,
   "metadata": {},
   "outputs": [],
   "source": [
    "#print title of the page \n",
    "\n",
    "title=soup.title  #print title \n",
    "print(title.text) #get only text "
   ]
  },
  {
   "cell_type": "code",
   "execution_count": null,
   "metadata": {},
   "outputs": [],
   "source": [
    "#print example 1 reveiwText / in python class is a function , then in Beautifulsoup will be class_\n",
    "reviewText=soup.find('div',class_='reviewText')\n",
    "print(reviewText)\n"
   ]
  },
  {
   "cell_type": "code",
   "execution_count": null,
   "metadata": {},
   "outputs": [],
   "source": [
    "#clean somes codes to take only text.  p  stands for paragraph. \n",
    "match=reviewText.p.text\n",
    "print(match)"
   ]
  },
  {
   "cell_type": "code",
   "execution_count": null,
   "metadata": {},
   "outputs": [],
   "source": [
    "#find all the reviewtext and cleaning the other code    #How to separate the text and save it in \n",
    "for  reviewText in soup.find_all('div',class_='reviewText'):\n",
    "    match=reviewText.p                 ##add .text will have only \n",
    "    print(match)"
   ]
  },
  {
   "cell_type": "code",
   "execution_count": null,
   "metadata": {},
   "outputs": [],
   "source": [
    "#save in CSV\n",
    "#CSV_File=open('coursera_scraping.csv','w')\n",
    "#csv_writer= csv.writer(CSV_File)\n",
    "#csv_writer.writerow(['name', 'review', 'rating'])"
   ]
  }
 ],
 "metadata": {
  "kernelspec": {
   "display_name": "Python 3",
   "language": "python",
   "name": "python3"
  },
  "language_info": {
   "codemirror_mode": {
    "name": "ipython",
    "version": 3
   },
   "file_extension": ".py",
   "mimetype": "text/x-python",
   "name": "python",
   "nbconvert_exporter": "python",
   "pygments_lexer": "ipython3",
   "version": "3.8.3"
  }
 },
 "nbformat": 4,
 "nbformat_minor": 4
}
